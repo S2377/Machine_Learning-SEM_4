{
  "nbformat": 4,
  "nbformat_minor": 0,
  "metadata": {
    "colab": {
      "provenance": []
    },
    "kernelspec": {
      "name": "python3",
      "display_name": "Python 3"
    },
    "language_info": {
      "name": "python"
    }
  },
  "cells": [
    {
      "cell_type": "markdown",
      "source": [
        "\n",
        "\n",
        "*   Write a Python code to implement Linear Regression for multi-dimensional input and one-dimensional output using Matrix Inverse. You can use NumPy to do matrix inverse, but you are encouraged to write your own code for this task also.\n",
        "\n",
        "*   Verify your results using the scikit-learn Linear Regression package.\n",
        "\n",
        "*   Write a code to minimise the squared error function using Gradient Descent, and compare the results with the above methods.\n",
        "*   Find the best fit hyperplane for the four synthetic datasets attached. Two of them will directly give good results with the usual Linear Regression algo, one of them will require a non-linear transformation of the input features, and for one of them the standard Linear Regression algo is not suitable. You need to figure out which of the 4 datasets belongs to which of these categories, with proper reasoning.\n",
        "\n",
        "\n",
        "\n",
        "\n",
        "Submission Deadline : Jan 27, 2024 (Saturday)\n",
        "\n",
        "Submission Form : https://forms.gle/bLDU3WY1P82Uer6H6\n",
        "\n",
        "\n",
        "\n"
      ],
      "metadata": {
        "id": "SY81iQ9EW9qj"
      }
    },
    {
      "cell_type": "markdown",
      "source": [
        "**Data Set - 1**"
      ],
      "metadata": {
        "id": "uVc_Ip2SXCVx"
      }
    },
    {
      "cell_type": "code",
      "execution_count": 9,
      "metadata": {
        "id": "h7OYWceEzQ4V"
      },
      "outputs": [],
      "source": [
        "# importing the required module and packages\n",
        "import pandas as pd\n",
        "import numpy as np\n",
        "from matplotlib import pyplot as plt\n",
        "from sklearn.linear_model import LinearRegression\n",
        "from sklearn.metrics import mean_absolute_error,mean_squared_error,r2_score\n",
        "import plotly.express as px"
      ]
    },
    {
      "cell_type": "code",
      "source": [
        "# reading the csv file using pandas\n",
        "df = pd.read_csv(\"Data1.csv\")\n",
        "\n",
        "# \"X\" and \"Y\" are the list of all xi and yi respectively.\n",
        "x_value = [float(item) for item in list(df['x'])]\n",
        "y_value = [float(item) for item in list(df['y'])]\n",
        "\n",
        "# Graphical Visualisation of data using plotely\n",
        "plt.scatter(x_value, y_value, s=5)\n",
        "plt.show()"
      ],
      "metadata": {
        "colab": {
          "base_uri": "https://localhost:8080/",
          "height": 430
        },
        "id": "b1vA0ReBzS0C",
        "outputId": "0ef35c30-fbe5-4c32-cc9d-65e2d1835872"
      },
      "execution_count": 10,
      "outputs": [
        {
          "output_type": "display_data",
          "data": {
            "text/plain": [
              "<Figure size 640x480 with 1 Axes>"
            ],
            "image/png": "[encoded data removed]"
          },
          "metadata": {}
        }
      ]
    },
    {
      "cell_type": "code",
      "source": [
        "# Evaluating the required parameter using loop,numpy\n",
        "xy_value=[]\n",
        "x_square_value=[]\n",
        "for i in range(100):\n",
        "  q = x_value[i] * y_value[i]\n",
        "  xy_value.append(q)\n",
        "\n",
        "  p = x_value[i] ** 2\n",
        "  x_square_value.append(p)\n",
        "\n",
        "avg_y_value = np.mean(y_value)\n",
        "avg_x_square_value = np.mean(x_square_value)\n",
        "avg_xy_value = np.mean(xy_value)\n",
        "avg_x_value = np.mean(x_value)\n"
      ],
      "metadata": {
        "id": "fQW33McWzVj-"
      },
      "execution_count": 11,
      "outputs": []
    },
    {
      "cell_type": "code",
      "source": [
        "# Evaluating the slope and constant\n",
        "slope = (avg_xy_value - avg_x_value * avg_y_value)/(avg_x_square_value - avg_x_value ** 2)\n",
        "const = (avg_y_value - slope * avg_x_value)\n",
        "print(\"value of slope :\", slope)\n",
        "print(\"value of constant :\", const)"
      ],
      "metadata": {
        "colab": {
          "base_uri": "https://localhost:8080/"
        },
        "id": "aHT4BvmWzZL9",
        "outputId": "4e421940-2b01-4849-e928-549931acbe0b"
      },
      "execution_count": 12,
      "outputs": [
        {
          "output_type": "stream",
          "name": "stdout",
          "text": [
            "value of slope : 2.384060066057183\n",
            "value of constant : 5.680787126761226\n"
          ]
        }
      ]
    },
    {
      "cell_type": "code",
      "source": [
        "# prediction using own developed regression model\n",
        "predicted_y_value = []\n",
        "for i in range(100):\n",
        "  r = slope* x_value[i] + const\n",
        "  predicted_y_value.append(r)\n",
        "#plotting graph; Given data set is scatter but predicted dataset is in the form of line.\n",
        "plt.scatter(x_value, y_value, s = 0.5,)\n",
        "plt.plot(x_value, predicted_y_value)"
      ],
      "metadata": {
        "colab": {
          "base_uri": "https://localhost:8080/",
          "height": 447
        },
        "id": "hdtL-Oa-zdlK",
        "outputId": "1720ffea-51f0-45dc-a82d-24880b0a1cee"
      },
      "execution_count": 13,
      "outputs": [
        {
          "output_type": "execute_result",
          "data": {
            "text/plain": [
              "[<matplotlib.lines.Line2D at 0x7cbb3ef54370>]"
            ]
          },
          "metadata": {},
          "execution_count": 13
        },
        {
          "output_type": "display_data",
          "data": {
            "text/plain": [
              "<Figure size 640x480 with 1 Axes>"
            ],
            "image/png": "[encoded data removed]"
          },
          "metadata": {}
        }
      ]
    },
    {
      "cell_type": "code",
      "source": [
        "# applying linear Regression which is build by SkLearn.\n",
        "regr = LinearRegression()\n",
        "x_array = np.array(x_value).reshape(-1, 1)\n",
        "y_array = np.array(y_value).reshape(-1, 1)\n",
        "regr.fit(x_array,y_array)\n",
        "print(\"Slope: \",regr.coef_)\n",
        "print(\"Intercept: \",regr.intercept_)"
      ],
      "metadata": {
        "colab": {
          "base_uri": "https://localhost:8080/"
        },
        "id": "zwKr4h7fzhRz",
        "outputId": "18191d50-8e13-437f-e793-b0135e69f8e6"
      },
      "execution_count": 14,
      "outputs": [
        {
          "output_type": "stream",
          "name": "stdout",
          "text": [
            "Slope:  [[2.38406007]]\n",
            "Intercept:  [5.68078713]\n"
          ]
        }
      ]
    },
    {
      "cell_type": "code",
      "source": [
        "# predicting the value of every data using SKLearn.\n",
        "y_pred_array = regr.predict(x_array)\n",
        "y_pred_list = list(y_pred_array)\n",
        "plt.scatter(x_value, y_value, s = 0.5)\n",
        "plt.plot(x_value, y_pred_array)\n",
        "\n",
        "# plt.tick_params(left = False, bottom = False)\n",
        "plt.show()"
      ],
      "metadata": {
        "colab": {
          "base_uri": "https://localhost:8080/",
          "height": 430
        },
        "id": "Gl6uQxs_zj8X",
        "outputId": "f881bea0-71a2-48f9-ec53-03b0a78c3612"
      },
      "execution_count": 15,
      "outputs": [
        {
          "output_type": "display_data",
          "data": {
            "text/plain": [
              "<Figure size 640x480 with 1 Axes>"
            ],
            "image/png": "[encoded data removed]"
          },
          "metadata": {}
        }
      ]
    },
    {
      "cell_type": "markdown",
      "source": [
        "**Verification Of My own LinearRegession Model Relative To SK  Learn Model**"
      ],
      "metadata": {
        "id": "uxia9y1sZUSE"
      }
    },
    {
      "cell_type": "code",
      "source": [
        "# Error between \"prediction by My SKLearn Regression model\" and \"given data.\"\n",
        "mae = mean_absolute_error(y_true = y_value,y_pred = y_pred_array )\n",
        "#squared True returns MSE value, False returns RMSE value.\n",
        "mse = mean_squared_error(y_true=y_value,y_pred = y_pred_list) #default=True\n",
        "rmse = mean_squared_error(y_true=y_value,y_pred = y_pred_list,squared=False)\n",
        "r_square = r2_score(y_value, y_pred_array)\n",
        "\n",
        "print(\"MAE:\",mae)\n",
        "print(\"MSE:\",mse)\n",
        "print(\"RMSE:\",rmse)\n",
        "print(\"r_sqare :\",r_square)\n"
      ],
      "metadata": {
        "colab": {
          "base_uri": "https://localhost:8080/"
        },
        "id": "PzS6HcCQzlLU",
        "outputId": "422f1394-0775-4818-e159-58c22fb0ffc7"
      },
      "execution_count": 18,
      "outputs": [
        {
          "output_type": "stream",
          "name": "stdout",
          "text": [
            "MAE: 1.280555978429147\n",
            "MSE: 2.078525401777328\n",
            "RMSE: 1.4417091945941551\n",
            "r_sqare : 0.9579571905586357\n"
          ]
        }
      ]
    },
    {
      "cell_type": "code",
      "source": [
        "# Error between \"prediction by My Own Regression model\" and \"given data.\"\n",
        "mae = mean_absolute_error(y_true = y_value,y_pred = predicted_y_value )\n",
        "#squared True returns MSE value, False returns RMSE value.\n",
        "mse = mean_squared_error(y_true=y_value,y_pred = predicted_y_value) #default=True\n",
        "rmse = mean_squared_error(y_true=y_value,y_pred = predicted_y_value,squared=False)\n",
        "r_square = r2_score(y_value, predicted_y_value)\n",
        "\n",
        "print(\"MAE:\",mae)\n",
        "print(\"MSE:\",mse)\n",
        "print(\"RMSE:\",rmse)\n",
        "print(\"r_sqare :\",r_square)"
      ],
      "metadata": {
        "id": "hbO-gsk6zqF0",
        "colab": {
          "base_uri": "https://localhost:8080/"
        },
        "outputId": "c55bb09f-197b-4267-f4a9-fb8075bc4fd8"
      },
      "execution_count": 19,
      "outputs": [
        {
          "output_type": "stream",
          "name": "stdout",
          "text": [
            "MAE: 1.2805559784291467\n",
            "MSE: 2.0785254017773265\n",
            "RMSE: 1.4417091945941547\n",
            "r_sqare : 0.9579571905586358\n"
          ]
        }
      ]
    }
  ]
}